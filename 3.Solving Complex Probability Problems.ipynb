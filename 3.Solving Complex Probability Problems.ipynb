{
 "cells": [
  {
   "cell_type": "markdown",
   "metadata": {},
   "source": [
    "We're now able to calculate empirical and theoretical probabilities for many kinds of events associated with any random experiment. There are, however, a few probability problems we cannot yet properly tackle using what we've learned:\n",
    "\n",
    "1. What is the probability that it takes three flips or more for a coin to land heads up?\n",
    "2. What is the probability of a coin landing heads up 18 times in a row?\n",
    "3. What is the probability of getting at least one 6 in four throws of a single six-sided die?\n",
    "4. What is the probability of getting at least one double-six in 24 throws of two six-sided dice?\n",
    "5. What is the probability of getting four aces in a row when drawing cards from a standard 52-card deck?"
   ]
  },
  {
   "cell_type": "code",
   "execution_count": 3,
   "metadata": {},
   "outputs": [
    {
     "data": {
      "text/plain": [
       "0.26"
      ]
     },
     "execution_count": 3,
     "metadata": {},
     "output_type": "execute_result"
    }
   ],
   "source": [
    "\"\"\"An advertisement company runs a quick test and shows two ads on the same web page \n",
    "(ad \"A\" and ad \"B\") to 100 users. At the end of the trial, they found:\n",
    "\n",
    "12 users clicked on ad \"A\"\n",
    "17 users clicked on ad \"B\"\n",
    "3 users clicked on both ad \"A\" and ad \"B\"\n",
    "\"\"\"\n",
    "\n",
    "# Empirical probability that a user clicks on ad \"A.\"\n",
    "\n",
    "p_a = 12/100\n",
    "\n",
    "# Empirical probability that a user clicks on ad \"B\n",
    "\n",
    "p_b = 17/100\n",
    "\n",
    "# Empirical probability that a user clicks on both ad \"A\" and ad \"B.\"\n",
    "\n",
    "p_a_and_b = 3/100\n",
    "\n",
    "# probability that a user clicks on either ad \"A\" or ad \"B.\"\n",
    "\n",
    "p_a_or_b = p_a+p_b-p_a_and_b\n",
    "p_a_or_b"
   ]
  },
  {
   "cell_type": "markdown",
   "metadata": {},
   "source": [
    "Now consider the two events below, which we're going to call **B** and **non-B**:\n",
    "\n",
    "* Getting a 2 when rolling a fair six-sided die (event B)\n",
    "* Not getting a 2 when rolling a fair six-sided die (event non-B)\n",
    "\n",
    "Events B and non-B correspond to the following outcomes:\n",
    "\n",
    "B = {2}\n",
    "\n",
    "non_B = {1,3,4,5,6}\n",
    "\n",
    "When we throw the die, it's certain we'll get either a 2 (B) or other number (non-B). This means the event **B or non-B** is certain, and it has a probability of 1.\n",
    "\n",
    "`P(B U non_B) = P(B) + P(non_B) - P(B n non_B) = 1/6 + 5/6 + 0+6 = 6/6 = 1`"
   ]
  },
  {
   "cell_type": "markdown",
   "metadata": {},
   "source": [
    "More generally, for any random experiment either event **E** or **non-E** will happen, so the event **E or non-E** is certain and has a probability of 1:\n",
    "\n",
    "`P(E U non_E) = P(E) + P(non_E) = 1`\n",
    "\n",
    "Using a little algebra, we arrive at the following formula:\n",
    "    \n",
    "`P(E) = 1 - P(non_E) `"
   ]
  },
  {
   "cell_type": "code",
   "execution_count": 6,
   "metadata": {},
   "outputs": [
    {
     "data": {
      "text/plain": [
       "0.65"
      ]
     },
     "execution_count": 6,
     "metadata": {},
     "output_type": "execute_result"
    }
   ],
   "source": [
    "\"\"\"A company that develops a time-tracking tool sells two kinds of subscription:basic and premium. \n",
    "\n",
    "When a new user tries the product, there's a 0.2 probability the user buys the basic subscription \n",
    "and 0.15 he buys premium.\"\"\"\n",
    "\n",
    "# The probability that a new user doesn't buy a basic subscription\n",
    "\n",
    "p_non_basic= 1 - 0.2  # using following formula P(E) = 1 - P(non_E)\n",
    "\n",
    "#  probability that a new user doesn't buy a premium subscription\n",
    "\n",
    "p_non_premium = 1-0.15\n",
    "\n",
    "# probability that a user buys either basic or premium.\n",
    "\n",
    "p_subscription = 0.2 + 0.15 \n",
    "\n",
    "# The probability that a new user doesn't buy a subscription\n",
    "\n",
    "p_non_subscription = 1 - p_subscription\n",
    "p_non_subscription"
   ]
  },
  {
   "cell_type": "markdown",
   "metadata": {},
   "source": [
    "Now we need to find the probability that it takes three flips or more for a coin to land heads up — we're going to call this event **A**.\n",
    "\n",
    "`A = {3,4,5,.......100,101,.....,}`\n",
    "\n",
    "where each number represents the number of flips it takes until we first get heads up (number three, for example, says **the coin first landed heads up on the third flip**):\n",
    "\n",
    "Event A contains an infinite number of outcomes. When we flip the coin, we could get heads up on the first flip, or the second, or the third, the fourth, the fifth and so forth \n",
    "\n",
    "The opposite of event A (it takes less than three flips for the coin to land heads up), which we'll call **non-A**, has only two outcomes :\n",
    "\n",
    "`nonA = {1,2}`\n",
    "\n",
    "This means finding `P(non-A)` is equivalent to finding the probability that a coin flipped twice lands heads up at least once. If we flip a coin twice, these are all the outcomes we can get: `{HH, HT, TH, TT}` \n",
    "\n",
    "Only the outcomes {HH, HT, TH} are successful with respect to the event non-A (the coin lands heads up at least once in two flips).\n",
    "\n",
    "`P(nonA) = 3/4 = 0.75 `\n",
    "\n",
    "`so P(A) = 1 - 0.75 = 0.25`"
   ]
  },
  {
   "cell_type": "code",
   "execution_count": 12,
   "metadata": {},
   "outputs": [
    {
     "data": {
      "text/plain": [
       "0.125"
      ]
     },
     "execution_count": 12,
     "metadata": {},
     "output_type": "execute_result"
    }
   ],
   "source": [
    "# Find the probability that it takes four flips or more for a coin to land heads up (let's call this event \"B\").\n",
    "\n",
    "P_non_B = 7/8  # {HHH, HHT,HTH,HTT, THT,TTH,THH, TTT}\n",
    "\n",
    "P_B = 1 - P_non_B\n",
    "P_B   # probability that it takes four flips or more for a coin to land heads up"
   ]
  },
  {
   "cell_type": "markdown",
   "metadata": {},
   "source": [
    "The event non-B is the opposite of B. In set theory, the opposite of a set is called its **complement**. the opposite of set **B** is $$B^C$$. "
   ]
  },
  {
   "cell_type": "markdown",
   "metadata": {},
   "source": [
    "This is how we can visualize $𝐵^c$ on a Venn diagram ( Bc is the area colored green):"
   ]
  },
  {
   "cell_type": "code",
   "execution_count": 13,
   "metadata": {},
   "outputs": [
    {
     "data": {
      "image/jpeg": "[encoded data removed]",
      "text/plain": [
       "<IPython.core.display.Image object>"
      ]
     },
     "execution_count": 13,
     "metadata": {},
     "output_type": "execute_result"
    }
   ],
   "source": [
    "from IPython.display import Image\n",
    "\n",
    "Image(\"Probablity7.JPG\")"
   ]
  },
  {
   "cell_type": "markdown",
   "metadata": {},
   "source": [
    "We can now rewrite the first equation of this screen using set notation\n",
    "\n",
    "P(E U EC) = P(E) + P(Ec) = 1"
   ]
  },
  {
   "cell_type": "code",
   "execution_count": 14,
   "metadata": {},
   "outputs": [
    {
     "data": {
      "text/plain": [
       "0.25"
      ]
     },
     "execution_count": 14,
     "metadata": {},
     "output_type": "execute_result"
    }
   ],
   "source": [
    "\"\"\"An advertisement company monitors the activity for a specific ad and shows it repeatedly to the \n",
    "same users (so a single user sees the ad multiple times). Regardless of the number of times \n",
    "the ad is shown to a user, the probability that the user clicks on the ad is 0.5. \"\"\"\n",
    "\n",
    "# The probability that a user doesn't click on the ad.\n",
    "\n",
    "p_non_click = 1 - 0.5\n",
    "\n",
    "# The probability that it takes two times or less for an user to click on the ad.\n",
    "\n",
    "p_two_or_less = 3/4    # {Click-click, click-Notclick, Notclick-click, Notclick-Notclick}\n",
    "\n",
    "p_three_or_more = 1 -p_two_or_less\n",
    "\n",
    "p_three_or_more"
   ]
  },
  {
   "cell_type": "markdown",
   "metadata": {},
   "source": [
    "**----------------------------------------------------------------------------------------------------------------**"
   ]
  },
  {
   "cell_type": "markdown",
   "metadata": {},
   "source": [
    "Now We begin to find the probability of a coin landing heads up two times in a row. From all the possible outcomes, only one outcome `(HH)` is successful with respect to the event where the coin lands heads up two times in a row. \n",
    "\n",
    "`P(HH) = 1/4 = 0.25`\n",
    "\n",
    "This approach works fine when we're dealing with only two flips, but things become much more complicated for 18 flips. For two flips, we have four possible outcomes `(HH, HT, TH, and TT)`, but for 18 flips we have 262,144 possible outcomes"
   ]
  },
  {
   "cell_type": "markdown",
   "metadata": {},
   "source": [
    "Finding `P(HH)` means finding the probability that the coin lands heads up on the first flip (we'll call this event `H1`), and the coin lands heads up on the second flip (we'll call this event `H2`). So we want to find `P(H1 and H2)` , or, using set notation, `P(H1 n H2)`."
   ]
  },
  {
   "cell_type": "markdown",
   "metadata": {},
   "source": [
    "To find  `P(H1 n H2)`, we can use a new rule called the **multiplication rule of probability** and multiply `P(H1)` by `P(H2)`:"
   ]
  },
  {
   "cell_type": "markdown",
   "metadata": {},
   "source": [
    "`P(HH) = 1/2 x 1/2 = 0.25`"
   ]
  },
  {
   "cell_type": "markdown",
   "metadata": {},
   "source": [
    "In more general terms, the multiplication rule says that for two events E1 and E2\n",
    "\n",
    "`P(E1 n E2) = P(E1) x P(E2)`"
   ]
  },
  {
   "cell_type": "code",
   "execution_count": 19,
   "metadata": {},
   "outputs": [],
   "source": [
    "\"\"\"For rolling a fair six-sided die\"\"\"\n",
    "\n",
    "# The probability of getting a 6 two times in a row.\n",
    "\n",
    "p_6_6 = 1/6*1/6\n",
    "\n",
    "# The probability of getting a 3 on the first throw and a 2 on the second throw. \n",
    "\n",
    "p_3_2 = 1/6*1/6 # or possible successful event is 1 out of 36 outcome i.e {3,2} so, 1/36\n",
    "\n",
    "# The probability of getting an even number on both throws\n",
    "\n",
    "p_even_even = 3/6*3/6  # or {2,2}, {2,4}, {2,6},{4,2},{4,4},{4,6},{6,2},{6,4},{6,6} so 9/36\n",
    "\n",
    "# The probability of getting a 1 on the first throw and an even number on the second throw.\n",
    "\n",
    "p_1_even = 1/6*3/6 # or {1,2},{1,4},{1,6} so 3/36"
   ]
  },
  {
   "cell_type": "code",
   "execution_count": 1,
   "metadata": {},
   "outputs": [],
   "source": [
    "# Getting heads up 18 times in a row when flipping a fair coin.\n",
    "\n",
    "p_18h = (1/2)**18\n",
    "\n",
    "# Getting a six three times in a row when throwing a fair six-sided die\n",
    "\n",
    "p_666 = 1/6*1/6*1/6 # or (1/6)**3"
   ]
  },
  {
   "cell_type": "code",
   "execution_count": 29,
   "metadata": {},
   "outputs": [
    {
     "data": {
      "text/plain": [
       "0.4822530864197532"
      ]
     },
     "execution_count": 29,
     "metadata": {},
     "output_type": "execute_result"
    }
   ],
   "source": [
    "# Not getting any six when throwing a fair six-sided die four times\n",
    "\n",
    "p_not_6 = (5/6)**4\n",
    "p_not_6 "
   ]
  },
  {
   "cell_type": "markdown",
   "metadata": {},
   "source": [
    "The multiplication rule, however, is a bit more nuanced, and it doesn't work for all kinds of events.\n",
    "\n",
    "Taken individually, `P(H1) = 0.5` and `P(H2) = 0.5`. If event H1 happens (the coin lands heads up), P(H2 keeps the same value (0.5) — the fact the we get heads up on the first flip doesn't influence in any way the probability of getting heads up on the second flip.\n",
    "\n",
    "Events that don't influence each other's probability are called **independent events**. The multiplication rule we only works for independent events."
   ]
  },
  {
   "cell_type": "markdown",
   "metadata": {},
   "source": [
    "Consider now the following two events, which are associated with rolling a fair six-sided die:\n",
    "\n",
    "`A`: we get a number less than 4; event A corresponds to the outcomes `{1, 2, 3}`\n",
    "\n",
    "`B`: we get an even number; event B corresponds to the outcomes `{2, 4, 6}`"
   ]
  },
  {
   "cell_type": "markdown",
   "metadata": {},
   "source": [
    "Taken individually, P(A) = 3/6 and P(B) = 3/6. However, if event A happens, then we know for sure the outcome is some number from the set associated with A: {1, 2, 3}. If we know event A happened and the die showed a number less than 4, then what's the probability of B? Still 3/6?"
   ]
  },
  {
   "cell_type": "markdown",
   "metadata": {},
   "source": [
    "Event B (getting an even number) corresponds to the outcomes `{2, 4, 6}`. We know for sure we got one of the numbers `{1, 2, 3}` — because we know event A happened. \n",
    "\n",
    "Only 2 is an even number in `{1, 2, 3}`, so event B can only happen in this case if the die showed a 2 — because event B only happens if the die shows an even number (`{2, 4, 6}`). There are three possible outcomes (`{1, 2, 3}`) and only one successful outcome (`{2}`), so P(B) becomes `1/3`."
   ]
  },
  {
   "cell_type": "markdown",
   "metadata": {},
   "source": [
    "We can conclude that if event A happens, the probability of event B changes. If event B happened, this will also change the probability of A. Events A and B influence each other's probability, so they are not independent."
   ]
  },
  {
   "cell_type": "code",
   "execution_count": 40,
   "metadata": {},
   "outputs": [
    {
     "data": {
      "text/plain": [
       "0.5177469135802468"
      ]
     },
     "execution_count": 40,
     "metadata": {},
     "output_type": "execute_result"
    }
   ],
   "source": [
    "# Probability of getting at least one 6 in four throws of a single six-sided die?\n",
    "\n",
    "P_Ec = (5/6)**4 # getting no 6 in four throws. \n",
    "\n",
    "P_E = 1 - P_Ec  # Probability of getting at least one 6 in four throws\n",
    "P_E"
   ]
  },
  {
   "cell_type": "code",
   "execution_count": 36,
   "metadata": {},
   "outputs": [
    {
     "data": {
      "text/plain": [
       "0.4914038761309034"
      ]
     },
     "execution_count": 36,
     "metadata": {},
     "output_type": "execute_result"
    }
   ],
   "source": [
    "# probability of getting at least one double-six in 24 throws of two six-sided dice\n",
    "\n",
    "p_not_double_6 = (35/36)**24\n",
    "p_one_double_6  = 1 - p_not_double_6\n",
    "\n",
    "p_one_double_6"
   ]
  },
  {
   "cell_type": "markdown",
   "metadata": {},
   "source": [
    "We're going to find the probability of getting four aces in a row when drawing cards from a standard 52-card deck. The deck has four aces and a total of 52 cards.\n",
    "\n",
    "Since there are four aces and 52 cards, the probability of drawing an ace if we draw a card is:\n",
    "\n",
    "`P(Ace) = 4/52`\n",
    "\n",
    "We might think that in order to find the probability of drawing four aces in a row (we'll call this event **AAAA**), all we need to do is multiply P(Ace) by itself four times:\n",
    "\n",
    "`P(AAAA) = (4/52)^4 = 0.000035`"
   ]
  },
  {
   "cell_type": "markdown",
   "metadata": {},
   "source": [
    "However, whether multiplying P(Ace) by itself four times is correct or not depends on an important detail: whether we put the cards we draw back in the deck. \n",
    "\n",
    "Let's first consider the case where we draw cards from the deck, but we don't put them back.\n",
    "\n",
    "For the first draw, `P(Ace) = 4/52`. Because we don't put the ace of diamonds back, we now have a deck of 51 cards, where only three cards are aces.To find the probability of getting four aces in a row, we need to take into account at each step that the card is not put back in the deck\n",
    "\n",
    "`P(AAAA) = 4/52x3/51x2/50x1/49 = 0.00000369`\n",
    "\n",
    "\n",
    "If we put the cards back in the deck after drawing, then  for every draw, it's correct to do \n",
    "\n",
    "`P(AAAA) = (4/52)^4`\n",
    "\n",
    "When we replace the cards after drawing, we say that we're **sampling with replacement**. When we don't put the cards back, we're **sampling without replacement**. In either case, the chances of getting four aces in a row are extremely low, so remember: never bet on getting four aces in a row."
   ]
  },
  {
   "cell_type": "code",
   "execution_count": 39,
   "metadata": {},
   "outputs": [],
   "source": [
    "# We're sampling without replacement from a standard 52-card deck.\n",
    "\n",
    "# Getting two kings in a row.\n",
    "\n",
    "p_kk = (4/52)*(3/51)\n",
    "\n",
    "# Getting a seven of hearts, followed by a queen of diamonds.\n",
    "\n",
    "p_7q = (1/52)*(1/51)\n",
    "\n",
    "# Getting a jack, followed by a queen of diamonds, followed by a king, followed by another jack.\n",
    "\n",
    "p_jqkj = (4/52)*(1/51)*(4/50)*(3/49)"
   ]
  },
  {
   "cell_type": "code",
   "execution_count": null,
   "metadata": {},
   "outputs": [],
   "source": []
  }
 ],
 "metadata": {
  "kernelspec": {
   "display_name": "Python 3",
   "language": "python",
   "name": "python3"
  },
  "language_info": {
   "codemirror_mode": {
    "name": "ipython",
    "version": 3
   },
   "file_extension": ".py",
   "mimetype": "text/x-python",
   "name": "python",
   "nbconvert_exporter": "python",
   "pygments_lexer": "ipython3",
   "version": "3.7.6"
  }
 },
 "nbformat": 4,
 "nbformat_minor": 2
}
